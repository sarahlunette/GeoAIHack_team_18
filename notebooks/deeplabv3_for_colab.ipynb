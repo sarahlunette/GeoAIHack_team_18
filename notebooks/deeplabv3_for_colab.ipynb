{
  "nbformat": 4,
  "nbformat_minor": 0,
  "metadata": {
    "colab": {
      "provenance": [],
      "gpuType": "T4"
    },
    "kernelspec": {
      "name": "python3",
      "display_name": "Python 3"
    },
    "language_info": {
      "name": "python"
    },
    "accelerator": "GPU"
  },
  "cells": [
    {
      "cell_type": "code",
      "source": [
        "from google.colab import drive\n",
        "drive.mount('/content/drive', force_remount=True)\n",
        "\n",
        "import os\n",
        "os.makedirs('/content/drive/MyDrive/geo/',exist_ok=True)\n",
        "\n",
        "import os\n",
        "os.makedirs('/content/drive/MyDrive/geo/predictions_rcnn/',exist_ok=True)\n",
        "\n",
        "# Import\n",
        "!pip install rasterio\n",
        "from sklearn.metrics import precision_recall_curve, auc"
      ],
      "metadata": {
        "colab": {
          "base_uri": "https://localhost:8080/"
        },
        "id": "vTpdwFR8Mrhe",
        "outputId": "30ce5d11-c47e-43ed-f750-0495ec4bd044"
      },
      "execution_count": 1,
      "outputs": [
        {
          "output_type": "stream",
          "name": "stdout",
          "text": [
            "Mounted at /content/drive\n",
            "Requirement already satisfied: rasterio in /usr/local/lib/python3.11/dist-packages (1.4.3)\n",
            "Requirement already satisfied: affine in /usr/local/lib/python3.11/dist-packages (from rasterio) (2.4.0)\n",
            "Requirement already satisfied: attrs in /usr/local/lib/python3.11/dist-packages (from rasterio) (25.1.0)\n",
            "Requirement already satisfied: certifi in /usr/local/lib/python3.11/dist-packages (from rasterio) (2024.12.14)\n",
            "Requirement already satisfied: click>=4.0 in /usr/local/lib/python3.11/dist-packages (from rasterio) (8.1.8)\n",
            "Requirement already satisfied: cligj>=0.5 in /usr/local/lib/python3.11/dist-packages (from rasterio) (0.7.2)\n",
            "Requirement already satisfied: numpy>=1.24 in /usr/local/lib/python3.11/dist-packages (from rasterio) (1.26.4)\n",
            "Requirement already satisfied: click-plugins in /usr/local/lib/python3.11/dist-packages (from rasterio) (1.1.1)\n",
            "Requirement already satisfied: pyparsing in /usr/local/lib/python3.11/dist-packages (from rasterio) (3.2.1)\n"
          ]
        }
      ]
    },
    {
      "cell_type": "code",
      "source": [
        "%cd /content/drive/MyDrive/geo"
      ],
      "metadata": {
        "id": "Uq8kcA9lSRDj",
        "colab": {
          "base_uri": "https://localhost:8080/"
        },
        "outputId": "c65400ce-a638-436c-a941-f670e400bfe8"
      },
      "execution_count": 2,
      "outputs": [
        {
          "output_type": "stream",
          "name": "stdout",
          "text": [
            "/content/drive/MyDrive/geo\n"
          ]
        }
      ]
    },
    {
      "cell_type": "code",
      "source": [
        "import os\n",
        "import torch\n",
        "import numpy as np\n",
        "import rasterio\n",
        "import matplotlib.pyplot as plt\n",
        "from torch.utils.data import Dataset, DataLoader\n",
        "import torchvision.transforms as transforms\n",
        "from torchvision.models.segmentation import deeplabv3_resnet50\n",
        "import torch.optim as optim\n",
        "import torch.nn as nn\n",
        "import pandas as pd\n",
        "\n",
        "# Custom Dataset Class for 8-Channel Segmentation\n",
        "class CustomSegmentationDataset(Dataset):\n",
        "    def __init__(self, image_paths, mask_paths=None, transform=None, is_test=False):\n",
        "        self.image_paths = image_paths\n",
        "        self.mask_paths = mask_paths if not is_test else None\n",
        "        self.transform = transform\n",
        "        self.is_test = is_test\n",
        "        self.samples = []\n",
        "\n",
        "        if not is_test:\n",
        "            for img_path, mask_path in zip(image_paths, mask_paths):\n",
        "                if os.path.exists(img_path) and os.path.exists(mask_path):\n",
        "                    self.samples.append((img_path, mask_path))\n",
        "        else:\n",
        "            for img_path in image_paths:\n",
        "                if os.path.exists(img_path):\n",
        "                    self.samples.append((img_path, None))\n",
        "\n",
        "    def __len__(self):\n",
        "        return len(self.samples)\n",
        "\n",
        "    def __getitem__(self, idx):\n",
        "        image_path, mask_path = self.samples[idx]\n",
        "        preprocessing = Preprocessing(image_path)\n",
        "        image = preprocessing.preprocess_image()\n",
        "        image = torch.tensor(image.transpose(2, 0, 1), dtype=torch.float32)  # (C, H, W)\n",
        "\n",
        "        if self.is_test:\n",
        "            return image, {\"image_id\": torch.tensor([idx])}\n",
        "        else:\n",
        "            mask = plt.imread(mask_path)\n",
        "\n",
        "            # Convert mask to grayscale (if it has extra channels)\n",
        "            if mask.ndim == 3:\n",
        "                mask = mask[..., 0]  # Take only the first channel\n",
        "\n",
        "            # Create a writable copy of the mask\n",
        "            mask = mask.copy()  # Make the mask writable\n",
        "\n",
        "            # Convert mask values to integers (0 for background, 1 for class)\n",
        "            mask[mask == -9999] = 0  # Set -9999 as background\n",
        "            mask[mask == 1] = 1       # Set 1 as the foreground class\n",
        "\n",
        "            # Ensure it's a 2D tensor (H, W) and correct dtype\n",
        "            mask = torch.tensor(mask, dtype=torch.long).squeeze(0)\n",
        "\n",
        "            if self.transform:\n",
        "                image = self.transform(image)\n",
        "\n",
        "            print(mask.shape)  # Check the shape of the mask\n",
        "\n",
        "            return image, mask  # Image (C, H, W), Mask (H, W)\n",
        "\n",
        "# Preprocessing Class for 8 Channels\n",
        "class Preprocessing:\n",
        "    def __init__(self, image_path):\n",
        "        self.image_path = image_path\n",
        "\n",
        "    def load_bands(self):\n",
        "        with rasterio.open(self.image_path) as src:\n",
        "            blue = src.read(1)\n",
        "            green = src.read(2)\n",
        "            red = src.read(3)\n",
        "            nir = src.read(4)\n",
        "            swir1 = src.read(5)\n",
        "            swir2 = src.read(6)\n",
        "        return blue, green, red, nir, swir1, swir2\n",
        "\n",
        "    def preprocess_image(self):\n",
        "        blue, green, red, nir, swir1, swir2 = self.load_bands()\n",
        "        ndvi = self.compute_ndvi(red, nir)\n",
        "        evi = self.compute_evi(nir, red, blue)\n",
        "        normalized_bands = [self.normalize_band(band) for band in [blue, green, red, nir, swir1, swir2]]\n",
        "        image = np.stack(normalized_bands + [ndvi, evi], axis=-1)  # Stack 8 channels\n",
        "        return image\n",
        "\n",
        "    def normalize_band(self, band):\n",
        "        return (band - np.min(band)) / (np.max(band) - np.min(band))\n",
        "\n",
        "    def compute_ndvi(self, red, nir):\n",
        "        return (nir - red) / (nir + red + 1e-6)\n",
        "\n",
        "    def compute_evi(self, nir, red, blue, g=2.5, c1=6, c2=7.5, l=1):\n",
        "        return np.clip(g * (nir - red) / (nir + c1 * red - c2 * blue + l), 0, 1)\n",
        "\n",
        "# Training and Model Setup\n",
        "class DeepLabV3Model:\n",
        "    def __init__(self, num_classes=2, device='cuda'):\n",
        "        self.device = device\n",
        "        self.model = deeplabv3_resnet50(pretrained=True)\n",
        "\n",
        "        # Modify input layer to accept 8 channels\n",
        "        in_features = self.model.backbone.conv1.in_channels\n",
        "        self.model.backbone.conv1 = nn.Conv2d(8, 64, kernel_size=7, stride=2, padding=3, bias=False)\n",
        "\n",
        "        # Modify output layer for segmentation classes\n",
        "        self.model.classifier[4] = nn.Conv2d(256, num_classes, kernel_size=1)\n",
        "\n",
        "        self.model.to(self.device)\n",
        "        self.criterion = nn.CrossEntropyLoss()\n",
        "        self.optimizer = optim.Adam(self.model.parameters(), lr=0.001)\n",
        "\n",
        "    def train(self, dataloader, num_epochs=10):\n",
        "        self.model.train()\n",
        "        for epoch in range(num_epochs):\n",
        "            running_loss = 0.0\n",
        "            for images, masks in dataloader:\n",
        "                images, masks = images.to(self.device), masks.to(self.device)\n",
        "                self.optimizer.zero_grad()\n",
        "                outputs = self.model(images)['out']\n",
        "                loss = self.criterion(outputs, masks)\n",
        "                loss.backward()\n",
        "                self.optimizer.step()\n",
        "                running_loss += loss.item()\n",
        "            print(f\"Epoch {epoch+1}/{num_epochs}, Loss: {running_loss / len(dataloader):.4f}\")\n",
        "\n",
        "    def evaluate(self, dataloader):\n",
        "        self.model.eval()\n",
        "        iou_scores = []\n",
        "        with torch.no_grad():\n",
        "            for images, masks in dataloader:\n",
        "                images, masks = images.to(self.device), masks.to(self.device)\n",
        "                outputs = self.model(images)['out']\n",
        "                preds = torch.argmax(outputs, dim=1)\n",
        "                intersection = (preds & masks).float().sum()\n",
        "                union = (preds | masks).float().sum()\n",
        "                iou_scores.append(intersection / union)\n",
        "        mean_iou = sum(iou_scores) / len(iou_scores)\n",
        "        print(f\"Mean IoU: {mean_iou:.4f}\")\n",
        "\n",
        "# Load dataset\n",
        "train_csv = pd.read_csv(\"train_ds.csv\")\n",
        "test_csv = pd.read_csv(\"test_ds.csv\")\n",
        "\n",
        "train_image_paths = train_csv[\"Input\"].tolist()\n",
        "train_mask_paths = train_csv[\"Label\"].tolist()\n",
        "test_image_paths = test_csv[\"Input\"].tolist()\n",
        "\n",
        "# Data Transformations\n",
        "transform = transforms.Compose([\n",
        "    transforms.RandomHorizontalFlip(),\n",
        "    transforms.RandomVerticalFlip(),\n",
        "])\n",
        "\n",
        "# Create Datasets and Dataloaders\n",
        "train_dataset = CustomSegmentationDataset(image_paths=train_image_paths, mask_paths=train_mask_paths, transform=transform)\n",
        "test_dataset = CustomSegmentationDataset(image_paths=test_image_paths, is_test=True, transform=transform)\n",
        "train_dataloader = DataLoader(train_dataset, batch_size=8, shuffle=True)\n",
        "test_dataloader = DataLoader(test_dataset, batch_size=8, shuffle=False)\n",
        "\n",
        "# Initialize and train the model\n",
        "device = torch.device(\"cuda\" if torch.cuda.is_available() else \"cpu\")\n",
        "model = DeepLabV3Model(device=device)\n",
        "model.train(train_dataloader, num_epochs=10)\n",
        "\n",
        "# Evaluate the model\n",
        "model.evaluate(test_dataloader)\n"
      ],
      "metadata": {
        "colab": {
          "base_uri": "https://localhost:8080/"
        },
        "id": "K0AEWNbbOhQa",
        "outputId": "5e3e34ea-1037-4c75-9f56-729cb03ecc8f"
      },
      "execution_count": null,
      "outputs": [
        {
          "output_type": "stream",
          "name": "stderr",
          "text": [
            "/usr/local/lib/python3.11/dist-packages/torchvision/models/_utils.py:208: UserWarning: The parameter 'pretrained' is deprecated since 0.13 and may be removed in the future, please use 'weights' instead.\n",
            "  warnings.warn(\n",
            "/usr/local/lib/python3.11/dist-packages/torchvision/models/_utils.py:223: UserWarning: Arguments other than a weight enum or `None` for 'weights' are deprecated since 0.13 and may be removed in the future. The current behavior is equivalent to passing `weights=DeepLabV3_ResNet50_Weights.COCO_WITH_VOC_LABELS_V1`. You can also use `weights=DeepLabV3_ResNet50_Weights.DEFAULT` to get the most up-to-date weights.\n",
            "  warnings.warn(msg)\n"
          ]
        },
        {
          "output_type": "stream",
          "name": "stdout",
          "text": [
            "torch.Size([256, 256])\n"
          ]
        },
        {
          "output_type": "stream",
          "name": "stderr",
          "text": [
            "<ipython-input-7-9ddcef535a7b>:96: RuntimeWarning: divide by zero encountered in divide\n",
            "  return np.clip(g * (nir - red) / (nir + c1 * red - c2 * blue + l), 0, 1)\n"
          ]
        },
        {
          "output_type": "stream",
          "name": "stdout",
          "text": [
            "torch.Size([256, 256])\n",
            "torch.Size([256, 256])\n",
            "torch.Size([256, 256])\n",
            "torch.Size([256, 256])\n",
            "torch.Size([256, 256])\n",
            "torch.Size([256, 256])\n",
            "torch.Size([256, 256])\n"
          ]
        }
      ]
    },
    {
      "cell_type": "code",
      "source": [
        "import rasterio\n",
        "import numpy as np\n",
        "import matplotlib.pyplot as plt\n",
        "\n",
        "# Function to load image and display unique pixel values\n",
        "def load_and_display_unique_values(image_path):\n",
        "    with rasterio.open(image_path) as src:\n",
        "        # Read the image data\n",
        "        image_data = src.read(1)  # Read the first band (if multi-band, modify as needed)\n",
        "\n",
        "    # Get unique pixel values in the image\n",
        "    unique_values = np.unique(image_data)\n",
        "\n",
        "    # Display the image\n",
        "    plt.imshow(image_data, cmap='gray')\n",
        "    plt.colorbar()\n",
        "    plt.title(\"Image Display\")\n",
        "    plt.show()\n",
        "\n",
        "    # Display unique pixel values\n",
        "    print(\"Unique pixel values:\", unique_values)\n",
        "\n",
        "# Replace with your image path\n",
        "image_path = '/content/drive/MyDrive/geo/hls_train/hls_train/seg_maps/seg_map_20160101_L30_T29RKH_2015337T111814_2_5.tif'\n",
        "load_and_display_unique_values(image_path)\n"
      ],
      "metadata": {
        "colab": {
          "base_uri": "https://localhost:8080/",
          "height": 470
        },
        "id": "DoPR2e2ET8R1",
        "outputId": "bad83536-9ea4-46a3-90d8-73309e4f6551"
      },
      "execution_count": 5,
      "outputs": [
        {
          "output_type": "display_data",
          "data": {
            "text/plain": [
              "<Figure size 640x480 with 2 Axes>"
            ],
            "image/png": "[encoded data removed]"
          },
          "metadata": {}
        },
        {
          "output_type": "stream",
          "name": "stdout",
          "text": [
            "Unique pixel values: [-9999     1]\n"
          ]
        }
      ]
    },
    {
      "cell_type": "code",
      "source": [],
      "metadata": {
        "id": "q9nEjAahNU07"
      },
      "execution_count": null,
      "outputs": []
    }
  ]
}